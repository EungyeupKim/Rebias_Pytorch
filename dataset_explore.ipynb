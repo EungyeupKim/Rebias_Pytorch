{
 "cells": [
  {
   "cell_type": "code",
   "execution_count": null,
   "metadata": {},
   "outputs": [],
   "source": [
    "import torch\n",
    "import torchvision\n",
    "from torch.utils.data import Dataset, DataLoader\n",
    "from torchvision import transforms as T\n",
    "import numpy as np\n",
    "import matplotlib.pyplot as plt\n",
    "import random\n",
    "from glob import glob\n",
    "import os\n",
    "from PIL import Image"
   ]
  },
  {
   "cell_type": "markdown",
   "metadata": {},
   "source": [
    "# Pre-requisite Setups "
   ]
  },
  {
   "cell_type": "markdown",
   "metadata": {},
   "source": [
    "## Download and Generate Datasets"
   ]
  },
  {
   "cell_type": "markdown",
   "metadata": {},
   "source": [
    "First of all, you need to generate the biased MNIST-CIFAR10 dataset, as described in README.md.\n",
    "Running the command line below will start generating both train and test dataset for given correlation (rho)."
   ]
  },
  {
   "cell_type": "code",
   "execution_count": null,
   "metadata": {
    "scrolled": false
   },
   "outputs": [],
   "source": [
    "if not os.path.exists(\"./dataset\"):\n",
    "    !python dataset.py --rho 1.0, 0.999, 0.997, 0.995, 0.990, 0.90, 0.1\n",
    "else:\n",
    "    print(\"Datasets already exist!\")"
   ]
  },
  {
   "cell_type": "markdown",
   "metadata": {},
   "source": [
    "## Dataset Path and Correlation\n",
    "From the datasets generated above, we can define train dataset, biased test dataset and unbiased tes dataset with certain correlation, as mentioned in the original paper. More specifically, we can define train and biased test dataset with target correlation (rho), and unbiased test dataset with rho = 0.1."
   ]
  },
  {
   "cell_type": "code",
   "execution_count": null,
   "metadata": {},
   "outputs": [],
   "source": [
    "#Define the correlation for both train and biased test datasets.\n",
    "rho = 0.999"
   ]
  },
  {
   "cell_type": "code",
   "execution_count": null,
   "metadata": {},
   "outputs": [],
   "source": [
    "#Define the train and test dataset path\n",
    "train_dir = \"./dataset/mnist_cifar/{}/train\".format(rho)\n",
    "train_path = glob(os.path.join(train_dir, \"*\"))\n",
    "biased_test_dir = \"./dataset/mnist_cifar/{}/test\".format(rho)\n",
    "biased_test_path = glob(os.path.join(biased_test_dir, \"*\"))\n",
    "unbiased_test_dir = \"./dataset/mnist_cifar/0.1/test\"\n",
    "unbiased_test_path = glob(os.path.join(unbiased_test_dir, \"*\"))"
   ]
  },
  {
   "cell_type": "markdown",
   "metadata": {},
   "source": [
    "## Arrangement of data samples by MNIST labels\n",
    "To visualize the characteristic of bias in each dataset, we first arrange the data samples according to the MNIST labels."
   ]
  },
  {
   "cell_type": "code",
   "execution_count": null,
   "metadata": {},
   "outputs": [],
   "source": [
    "#Generated Images listed according to the MNIST label\n",
    "#Train Dataset\n",
    "mnist_train_path = [[] for i in range(10)]\n",
    "for path in train_path:\n",
    "    mnist_name = path.split('/')[-1].split('.')[0].split('_')[-2]\n",
    "    mnist_train_path[int(mnist_name)].append(path)\n",
    "\n",
    "#Biased Test Dataset\n",
    "mnist_biased_test_path = [[] for i in range(10)]\n",
    "for path in biased_test_path:\n",
    "    mnist_name = path.split('/')[-1].split('.')[0].split('_')[-2]\n",
    "    mnist_biased_test_path[int(mnist_name)].append(path)\n",
    "\n",
    "#Unbiased Test Dataset\n",
    "mnist_unbiased_test_path = [[] for i in range(10)]\n",
    "for path in unbiased_test_path:\n",
    "    mnist_name = path.split('/')[-1].split('.')[0].split('_')[-2]\n",
    "    mnist_unbiased_test_path[int(mnist_name)].append(path)"
   ]
  },
  {
   "cell_type": "markdown",
   "metadata": {},
   "source": [
    "## Example image"
   ]
  },
  {
   "cell_type": "code",
   "execution_count": null,
   "metadata": {},
   "outputs": [],
   "source": [
    "example_mnist_label = 1\n",
    "image_index = np.random.randint(1, len(mnist_train_path[example_mnist_label]))\n",
    "plt.imshow(Image.open(mnist_train_path[example_mnist_label][image_index]))"
   ]
  },
  {
   "cell_type": "markdown",
   "metadata": {},
   "source": [
    "## Arrangement of data samples by CIFAR-10 labels"
   ]
  },
  {
   "cell_type": "markdown",
   "metadata": {},
   "source": [
    "### Visualize MNIST-CIFAR10\n",
    "\n",
    "After arranging the samples by their MNIST labels, we again arrange them according to their CIFAR-10 labels. Due to the correlation between these two labels, especially in the train and biased test set, images with specific CIFAR-10 class are shown in a specific MNIST label. In contrast, unbiased test set demonstrate the equally distributed classes of CIFAR-10 images for each class of MNIST.\n",
    "Pre-defined label mapping used in the generation of biased dataset is below:\n",
    "\n",
    "#### ```label_dict = {0: 0, 1: 1, 2: 2, 3: 3, 4: 4, 5: 5, 6: 6, 7: 7, 8: 8, 9: 9}```\n",
    "Given MNIST label, cells below present the MNIST-CIFAR10 images for the MNIST label with 10 differnt CIFAR-10 classes.\n",
    "Each row represents a list of images from one class each, and there are 10 rows for total 10 CIFAR-10 classes. Some row are shown blank due to the correlation between MNIST label and CIFAR-10 labels. Specifically, with rho=0.999, 99.9% of the images from the 0-th CIFAR-10 class are shown as background with MNIST 0 class."
   ]
  },
  {
   "cell_type": "markdown",
   "metadata": {},
   "source": [
    "### Training Dataset"
   ]
  },
  {
   "cell_type": "code",
   "execution_count": null,
   "metadata": {},
   "outputs": [],
   "source": [
    "#Dfine a MNIST index\n",
    "mnist_index = 0\n",
    "\n",
    "cifar_train_path = [[] for i in range(10)]\n",
    "for path in mnist_train_path[mnist_index]:\n",
    "    cifar_name = path.split('/')[-1].split('.')[0].split('_')[-1]\n",
    "    cifar_train_path[int(cifar_name)].append(path)\n",
    "\n",
    "fig, ax = plt.subplots(10, 10, figsize=(20, 20))\n",
    "for i in range(10):\n",
    "    for j in range(10):\n",
    "        if j >= len(cifar_train_path[i]):\n",
    "            pass\n",
    "        else:\n",
    "            ax[i, j].imshow(Image.open(cifar_train_path[i][j]))"
   ]
  },
  {
   "cell_type": "markdown",
   "metadata": {},
   "source": [
    "### Biased Test Dataset"
   ]
  },
  {
   "cell_type": "code",
   "execution_count": null,
   "metadata": {},
   "outputs": [],
   "source": [
    "cifar_biased_test_path = [[] for i in range(10)]\n",
    "for path in mnist_biased_test_path[mnist_index]:\n",
    "    cifar_name = path.split('/')[-1].split('.')[0].split('_')[-1]\n",
    "    cifar_biased_test_path[int(cifar_name)].append(path)\n",
    "\n",
    "fig, ax = plt.subplots(10, 10, figsize=(20, 20))\n",
    "for i in range(10):\n",
    "    for j in range(10):\n",
    "        if j >= len(cifar_biased_test_path[i]):\n",
    "            pass\n",
    "        else:\n",
    "            ax[i, j].imshow(Image.open(cifar_biased_test_path[i][j]))"
   ]
  },
  {
   "cell_type": "markdown",
   "metadata": {},
   "source": [
    "### Unbiased Test Dataset"
   ]
  },
  {
   "cell_type": "code",
   "execution_count": null,
   "metadata": {},
   "outputs": [],
   "source": [
    "cifar_unbiased_test_path = [[] for i in range(10)]\n",
    "for path in mnist_unbiased_test_path[mnist_index]:\n",
    "    cifar_name = path.split('/')[-1].split('.')[0].split('_')[-1]\n",
    "    cifar_unbiased_test_path[int(cifar_name)].append(path)\n",
    "\n",
    "fig, ax = plt.subplots(10, 10, figsize=(20, 20))\n",
    "for i in range(10):\n",
    "    for j in range(10):\n",
    "        if j >= len(cifar_unbiased_test_path[i]):\n",
    "            pass\n",
    "        else:\n",
    "            ax[i, j].imshow(Image.open(cifar_unbiased_test_path[i][j]))"
   ]
  }
 ],
 "metadata": {
  "kernelspec": {
   "display_name": "env1",
   "language": "python",
   "name": "env1"
  },
  "language_info": {
   "codemirror_mode": {
    "name": "ipython",
    "version": 3
   },
   "file_extension": ".py",
   "mimetype": "text/x-python",
   "name": "python",
   "nbconvert_exporter": "python",
   "pygments_lexer": "ipython3",
   "version": "3.7.9"
  }
 },
 "nbformat": 4,
 "nbformat_minor": 4
}
